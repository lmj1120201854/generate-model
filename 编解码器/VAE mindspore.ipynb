{
 "cells": [
  {
   "cell_type": "code",
   "execution_count": 1,
   "metadata": {
    "collapsed": true,
    "ExecuteTime": {
     "start_time": "2023-05-04T23:56:16.658094Z",
     "end_time": "2023-05-04T23:56:18.165065Z"
    }
   },
   "outputs": [],
   "source": [
    "import mindspore.dataset as ds\n",
    "from mindvision.dataset import Mnist\n",
    "import mindspore as ms"
   ]
  },
  {
   "cell_type": "code",
   "execution_count": 2,
   "outputs": [
    {
     "name": "stderr",
     "output_type": "stream",
     "text": [
      "[WARNING] ME(24272:15388,MainProcess):2023-05-04-23:56:22.174.378 [mindspore\\dataset\\core\\validator_helpers.py:806] 'Resize' from mindspore.dataset.vision.c_transforms is deprecated from version 1.8 and will be removed in a future version. Use 'Resize' from mindspore.dataset.vision instead.\n",
      "[WARNING] ME(24272:15388,MainProcess):2023-05-04-23:56:22.176.380 [mindspore\\dataset\\core\\validator_helpers.py:806] 'Rescale' from mindspore.dataset.vision.c_transforms is deprecated from version 1.8 and will be removed in a future version. Use 'Rescale' from mindspore.dataset.vision instead.\n",
      "[WARNING] ME(24272:15388,MainProcess):2023-05-04-23:56:22.177.339 [mindspore\\dataset\\core\\validator_helpers.py:806] 'Rescale' from mindspore.dataset.vision.c_transforms is deprecated from version 1.8 and will be removed in a future version. Use 'Rescale' from mindspore.dataset.vision instead.\n",
      "[WARNING] ME(24272:15388,MainProcess):2023-05-04-23:56:22.178.336 [mindspore\\dataset\\core\\validator_helpers.py:806] 'HWC2CHW' from mindspore.dataset.vision.c_transforms is deprecated from version 1.8 and will be removed in a future version. Use 'HWC2CHW' from mindspore.dataset.vision instead.\n",
      "[WARNING] ME(24272:15388,MainProcess):2023-05-04-23:56:22.179.333 [mindspore\\dataset\\core\\validator_helpers.py:806] 'Resize' from mindspore.dataset.vision.c_transforms is deprecated from version 1.8 and will be removed in a future version. Use 'Resize' from mindspore.dataset.vision instead.\n",
      "[WARNING] ME(24272:15388,MainProcess):2023-05-04-23:56:22.179.333 [mindspore\\dataset\\core\\validator_helpers.py:806] 'Rescale' from mindspore.dataset.vision.c_transforms is deprecated from version 1.8 and will be removed in a future version. Use 'Rescale' from mindspore.dataset.vision instead.\n",
      "[WARNING] ME(24272:15388,MainProcess):2023-05-04-23:56:22.180.331 [mindspore\\dataset\\core\\validator_helpers.py:806] 'Rescale' from mindspore.dataset.vision.c_transforms is deprecated from version 1.8 and will be removed in a future version. Use 'Rescale' from mindspore.dataset.vision instead.\n",
      "[WARNING] ME(24272:15388,MainProcess):2023-05-04-23:56:22.181.339 [mindspore\\dataset\\core\\validator_helpers.py:806] 'HWC2CHW' from mindspore.dataset.vision.c_transforms is deprecated from version 1.8 and will be removed in a future version. Use 'HWC2CHW' from mindspore.dataset.vision instead.\n"
     ]
    }
   ],
   "source": [
    "download_train = Mnist(path=\"data/MNIST/raw\", split=\"train\", batch_size=32, repeat_num=1, shuffle=True, resize=32, download=False)\n",
    "download_eval = Mnist(path=\"data/MNIST/raw\", split=\"test\", batch_size=32, resize=32, download=False)\n",
    "dataset_train = download_train.run()\n",
    "dataset_eval = download_eval.run()"
   ],
   "metadata": {
    "collapsed": false,
    "ExecuteTime": {
     "start_time": "2023-05-04T23:56:18.168056Z",
     "end_time": "2023-05-04T23:56:22.191301Z"
    }
   }
  },
  {
   "cell_type": "code",
   "execution_count": 3,
   "outputs": [
    {
     "name": "stdout",
     "output_type": "stream",
     "text": [
      "[5 8 3 5 0 7 6 1 2 9 4 6 6 5 0 4 5 7 0 8 8 0 9 5 1 9 8 5 3 8 9 0]\n",
      "<class 'mindspore.common.tensor.Tensor'>\n",
      "(32, 1, 32, 32)\n"
     ]
    }
   ],
   "source": [
    "count = 0\n",
    "for i in dataset_train:\n",
    "    count += 1\n",
    "    print(i[1])\n",
    "    print(type(i[1]))\n",
    "    print(i[0].shape)\n",
    "    if count == 1:\n",
    "        break"
   ],
   "metadata": {
    "collapsed": false,
    "ExecuteTime": {
     "start_time": "2023-05-04T23:56:22.193295Z",
     "end_time": "2023-05-04T23:56:22.245155Z"
    }
   }
  },
  {
   "cell_type": "code",
   "execution_count": 4,
   "outputs": [],
   "source": [
    "from mindspore import nn"
   ],
   "metadata": {
    "collapsed": false,
    "ExecuteTime": {
     "start_time": "2023-05-04T23:56:22.224212Z",
     "end_time": "2023-05-04T23:56:22.245155Z"
    }
   }
  },
  {
   "cell_type": "code",
   "execution_count": 5,
   "outputs": [],
   "source": [
    "class VAE(nn.Cell):\n",
    "    def __init__(self):\n",
    "        super(VAE, self).__init__()\n",
    "\n",
    "        self.encoder = nn.SequentialCell(\n",
    "            nn.Dense(32*32, 256),\n",
    "            nn.ReLU(),\n",
    "            nn.Dense(256, 64),\n",
    "            nn.ReLU(),\n",
    "            nn.Dense(64, 20),\n",
    "            nn.ReLU()\n",
    "        )\n",
    "\n",
    "        self.decoder = nn.SequentialCell(\n",
    "            nn.Dense(10, 64),\n",
    "            nn.ReLU(),\n",
    "            nn.Dense(64, 256),\n",
    "            nn.ReLU(),\n",
    "            nn.Dense(256, 32*32),\n",
    "            nn.Sigmoid()\n",
    "        )\n",
    "        self.split = ms.ops.Split(axis=1, output_num=2)\n",
    "        self.randn = ms.ops.StandardNormal()\n",
    "        self.sum = ms.ops.ReduceSum()\n",
    "        self.pow = ms.ops.Pow()\n",
    "        self.log = ms.ops.Log()\n",
    "\n",
    "    def construct(self, x):\n",
    "        batch_size = 32\n",
    "        x = x.view(batch_size, 32*32)\n",
    "        h_ = self.encoder(x)\n",
    "\n",
    "        mu, sigma = self.split(h_)\n",
    "        # print(mu, sigma)\n",
    "        h = mu + sigma * self.randn(sigma.shape)\n",
    "\n",
    "        x = self.decoder(h)\n",
    "        x = x.view(batch_size, 1, 32, 32)\n",
    "\n",
    "        \"\"\"\n",
    "        kld = 0.5 * torch.sum(\n",
    "            torch.pow(mu, 2) +\n",
    "            torch.pow(sigma, 2) -\n",
    "            torch.log(1e-8 + torch.pow(sigma, 2)) - 1\n",
    "        ) / (batch_size * 28 * 28)  # np.prod(x.shape) = batch_size * channel * h * w\n",
    "        \"\"\"\n",
    "\n",
    "        kld = 0.5 * self.sum(\n",
    "            self.pow(mu, 2) +\n",
    "            self.pow(sigma, 2) -\n",
    "            self.log(1e-8 + self.pow(sigma, 2)) - 1\n",
    "        ) / (batch_size * 32 * 32)\n",
    "\n",
    "        return x, kld\n"
   ],
   "metadata": {
    "collapsed": false,
    "ExecuteTime": {
     "start_time": "2023-05-04T23:56:22.243161Z",
     "end_time": "2023-05-04T23:56:22.258121Z"
    }
   }
  },
  {
   "cell_type": "code",
   "execution_count": 6,
   "outputs": [],
   "source": [
    "class WithLossCell(nn.Cell):\n",
    "    def __init__(self, net, loss_function):\n",
    "        super(WithLossCell, self).__init__()\n",
    "        self.net = net\n",
    "        self.loss_function = loss_function\n",
    "\n",
    "    def construct(self, x):\n",
    "        x_hat, kld = net(x)\n",
    "        loss = loss_function(x_hat, x)\n",
    "        return loss + kld"
   ],
   "metadata": {
    "collapsed": false,
    "ExecuteTime": {
     "start_time": "2023-05-04T23:56:22.254131Z",
     "end_time": "2023-05-04T23:56:22.312005Z"
    }
   }
  },
  {
   "cell_type": "code",
   "execution_count": 7,
   "outputs": [
    {
     "name": "stdout",
     "output_type": "stream",
     "text": [
      "VAE<\n",
      "  (encoder): SequentialCell<\n",
      "    (0): Dense<input_channels=1024, output_channels=256, has_bias=True>\n",
      "    (1): ReLU<>\n",
      "    (2): Dense<input_channels=256, output_channels=64, has_bias=True>\n",
      "    (3): ReLU<>\n",
      "    (4): Dense<input_channels=64, output_channels=20, has_bias=True>\n",
      "    (5): ReLU<>\n",
      "    >\n",
      "  (decoder): SequentialCell<\n",
      "    (0): Dense<input_channels=10, output_channels=64, has_bias=True>\n",
      "    (1): ReLU<>\n",
      "    (2): Dense<input_channels=64, output_channels=256, has_bias=True>\n",
      "    (3): ReLU<>\n",
      "    (4): Dense<input_channels=256, output_channels=1024, has_bias=True>\n",
      "    (5): Sigmoid<>\n",
      "    >\n",
      "  >\n"
     ]
    }
   ],
   "source": [
    "net = VAE()\n",
    "print(net)\n",
    "loss_function = nn.MSELoss()\n",
    "opt = nn.Adam(net.trainable_params(), learning_rate=0.001)"
   ],
   "metadata": {
    "collapsed": false,
    "ExecuteTime": {
     "start_time": "2023-05-04T23:56:22.271087Z",
     "end_time": "2023-05-04T23:56:22.333919Z"
    }
   }
  },
  {
   "cell_type": "code",
   "execution_count": 8,
   "outputs": [],
   "source": [
    "import numpy as np"
   ],
   "metadata": {
    "collapsed": false,
    "ExecuteTime": {
     "start_time": "2023-05-04T23:56:22.333919Z",
     "end_time": "2023-05-04T23:56:22.374808Z"
    }
   }
  },
  {
   "cell_type": "code",
   "execution_count": 9,
   "outputs": [],
   "source": [
    "with_loss = WithLossCell(net, loss_function)\n",
    "train_step = nn.TrainOneStepCell(with_loss, opt).set_train()"
   ],
   "metadata": {
    "collapsed": false,
    "ExecuteTime": {
     "start_time": "2023-05-04T23:56:22.349875Z",
     "end_time": "2023-05-04T23:56:22.387795Z"
    }
   }
  },
  {
   "cell_type": "code",
   "execution_count": 10,
   "outputs": [],
   "source": [
    "import tqdm"
   ],
   "metadata": {
    "collapsed": false,
    "ExecuteTime": {
     "start_time": "2023-05-04T23:56:22.364835Z",
     "end_time": "2023-05-04T23:56:22.387795Z"
    }
   }
  },
  {
   "cell_type": "code",
   "execution_count": 11,
   "outputs": [
    {
     "name": "stderr",
     "output_type": "stream",
     "text": [
      "1875it [00:48, 38.70it/s]\n"
     ]
    },
    {
     "name": "stdout",
     "output_type": "stream",
     "text": [
      "epoch: 0, loss is 0.5925172\n"
     ]
    },
    {
     "name": "stderr",
     "output_type": "stream",
     "text": [
      "1875it [01:35, 19.56it/s]"
     ]
    },
    {
     "name": "stdout",
     "output_type": "stream",
     "text": [
      "epoch: 1, loss is 0.61713034\n"
     ]
    },
    {
     "name": "stderr",
     "output_type": "stream",
     "text": [
      "\n"
     ]
    }
   ],
   "source": [
    "for epoch in range(1):\n",
    "    for x_train, _ in tqdm.tqdm(dataset_train):\n",
    "        loss = train_step(x_train)\n",
    "    print('epoch: {0}, loss is {1}'.format(epoch, loss))"
   ],
   "metadata": {
    "collapsed": false,
    "ExecuteTime": {
     "start_time": "2023-05-04T23:56:22.379796Z",
     "end_time": "2023-05-04T23:58:46.700545Z"
    }
   }
  },
  {
   "cell_type": "code",
   "execution_count": 19,
   "outputs": [
    {
     "data": {
      "text/plain": "(-0.5, 31.5, 31.5, -0.5)"
     },
     "execution_count": 19,
     "metadata": {},
     "output_type": "execute_result"
    },
    {
     "data": {
      "text/plain": "<Figure size 640x480 with 2 Axes>",
      "image/png": "[encoded data removed]"
     },
     "metadata": {},
     "output_type": "display_data"
    }
   ],
   "source": [
    "import matplotlib.pyplot as plt\n",
    "count = 0\n",
    "for x_eval, _ in dataset_eval:\n",
    "    if count == 1:\n",
    "        break\n",
    "x_hat, _ = net(x_eval)\n",
    "\n",
    "x_eval1 = x_eval[0].asnumpy()\n",
    "x_hat1 = x_hat[0].asnumpy()\n",
    "\n",
    "plt.subplot(1, 2, 1)\n",
    "plt.title(\"org\", color='blue')\n",
    "plt.imshow(np.squeeze(x_eval1))\n",
    "plt.axis(\"off\")\n",
    "\n",
    "plt.subplot(1, 2, 2)\n",
    "plt.title(\"ae\", color='blue')\n",
    "plt.imshow(np.squeeze(x_hat1))\n",
    "plt.axis(\"off\")"
   ],
   "metadata": {
    "collapsed": false,
    "ExecuteTime": {
     "start_time": "2023-05-04T23:59:24.323868Z",
     "end_time": "2023-05-04T23:59:25.019010Z"
    }
   }
  },
  {
   "cell_type": "code",
   "execution_count": null,
   "outputs": [],
   "source": [],
   "metadata": {
    "collapsed": false
   }
  }
 ],
 "metadata": {
  "kernelspec": {
   "display_name": "Python 3",
   "language": "python",
   "name": "python3"
  },
  "language_info": {
   "codemirror_mode": {
    "name": "ipython",
    "version": 2
   },
   "file_extension": ".py",
   "mimetype": "text/x-python",
   "name": "python",
   "nbconvert_exporter": "python",
   "pygments_lexer": "ipython2",
   "version": "2.7.6"
  }
 },
 "nbformat": 4,
 "nbformat_minor": 0
}
