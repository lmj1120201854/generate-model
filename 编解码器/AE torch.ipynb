{
 "cells": [
  {
   "cell_type": "code",
   "execution_count": 1,
   "metadata": {
    "collapsed": true,
    "ExecuteTime": {
     "start_time": "2023-04-30T21:06:41.398066Z",
     "end_time": "2023-04-30T21:06:42.332114Z"
    }
   },
   "outputs": [],
   "source": [
    "import torch\n",
    "from torchvision import datasets, transforms\n",
    "from torch.utils.data import DataLoader"
   ]
  },
  {
   "cell_type": "code",
   "execution_count": 2,
   "outputs": [],
   "source": [
    "path = 'data'\n",
    "train_data = datasets.MNIST(root=path, train=True, transform=transforms.Compose([\n",
    "    transforms.ToTensor()\n",
    "]), download=False)\n",
    "train_data = DataLoader(dataset=train_data, batch_size=128, shuffle=True)\n",
    "\n",
    "test_data = datasets.MNIST(root=path, train=False, transform=transforms.Compose([\n",
    "    transforms.ToTensor()\n",
    "]), download=False)\n",
    "test_data = DataLoader(dataset=test_data, batch_size=128, shuffle=True)\n",
    "\n",
    "x, _ = iter(train_data).next()"
   ],
   "metadata": {
    "collapsed": false,
    "ExecuteTime": {
     "start_time": "2023-04-30T21:06:42.340896Z",
     "end_time": "2023-04-30T21:06:42.420941Z"
    }
   }
  },
  {
   "cell_type": "code",
   "execution_count": 3,
   "outputs": [
    {
     "data": {
      "text/plain": "torch.Size([128, 1, 28, 28])"
     },
     "execution_count": 3,
     "metadata": {},
     "output_type": "execute_result"
    }
   ],
   "source": [
    "x.shape"
   ],
   "metadata": {
    "collapsed": false,
    "ExecuteTime": {
     "start_time": "2023-04-30T21:06:42.420941Z",
     "end_time": "2023-04-30T21:06:42.441425Z"
    }
   }
  },
  {
   "cell_type": "code",
   "execution_count": 4,
   "outputs": [],
   "source": [
    "from torch import nn"
   ],
   "metadata": {
    "collapsed": false,
    "ExecuteTime": {
     "start_time": "2023-04-30T21:06:42.442401Z",
     "end_time": "2023-04-30T21:06:42.472657Z"
    }
   }
  },
  {
   "cell_type": "code",
   "execution_count": 5,
   "outputs": [],
   "source": [
    "class AE(nn.Module):\n",
    "    def __init__(self):\n",
    "        super(AE, self).__init__()\n",
    "        self.encoder = nn.Sequential(\n",
    "            nn.Linear(28*28, 256),\n",
    "            nn.ReLU(),\n",
    "            nn.Linear(256, 128),\n",
    "            nn.ReLU(),\n",
    "            nn.Linear(128, 20),\n",
    "            nn.ReLU()\n",
    "        )\n",
    "        self.decoder = nn.Sequential(\n",
    "            nn.Linear(20, 128),\n",
    "            nn.ReLU(),\n",
    "            nn.Linear(128, 256),\n",
    "            nn.ReLU(),\n",
    "            nn.Linear(256, 28*28),\n",
    "            nn.Sigmoid()\n",
    "        )\n",
    "\n",
    "    def forward(self, x):\n",
    "        \"\"\"\n",
    "        :param x:\n",
    "        :return:\n",
    "        \"\"\"\n",
    "        batch_size = x.size(0)\n",
    "        x = x.view(batch_size, 28*28)\n",
    "        x = self.encoder(x)\n",
    "        x = self.decoder(x)\n",
    "        return x.view(batch_size, 1, 28, 28)\n"
   ],
   "metadata": {
    "collapsed": false,
    "ExecuteTime": {
     "start_time": "2023-04-30T21:06:42.460946Z",
     "end_time": "2023-04-30T21:06:42.473633Z"
    }
   }
  },
  {
   "cell_type": "code",
   "execution_count": 6,
   "outputs": [],
   "source": [
    "device = torch.device('cuda')"
   ],
   "metadata": {
    "collapsed": false,
    "ExecuteTime": {
     "start_time": "2023-04-30T21:06:42.472657Z",
     "end_time": "2023-04-30T21:06:42.489248Z"
    }
   }
  },
  {
   "cell_type": "code",
   "execution_count": 7,
   "outputs": [],
   "source": [
    "model = AE().to(device)\n",
    "loss_function = nn.MSELoss()\n",
    "opt = torch.optim.Adam(model.parameters(), lr=0.01)"
   ],
   "metadata": {
    "collapsed": false,
    "ExecuteTime": {
     "start_time": "2023-04-30T21:06:42.485348Z",
     "end_time": "2023-04-30T21:06:44.920829Z"
    }
   }
  },
  {
   "cell_type": "code",
   "execution_count": 8,
   "outputs": [],
   "source": [
    "import tqdm"
   ],
   "metadata": {
    "collapsed": false,
    "ExecuteTime": {
     "start_time": "2023-04-30T21:06:44.920829Z",
     "end_time": "2023-04-30T21:06:44.927661Z"
    }
   }
  },
  {
   "cell_type": "code",
   "execution_count": 9,
   "outputs": [
    {
     "name": "stderr",
     "output_type": "stream",
     "text": [
      "100%|██████████| 469/469 [00:09<00:00, 50.86it/s]\n"
     ]
    },
    {
     "name": "stdout",
     "output_type": "stream",
     "text": [
      "epoch: 1, loss: 0.02852211706340313\n"
     ]
    },
    {
     "name": "stderr",
     "output_type": "stream",
     "text": [
      "100%|██████████| 469/469 [00:09<00:00, 51.02it/s]\n"
     ]
    },
    {
     "name": "stdout",
     "output_type": "stream",
     "text": [
      "epoch: 2, loss: 0.025416741147637367\n"
     ]
    },
    {
     "name": "stderr",
     "output_type": "stream",
     "text": [
      "100%|██████████| 469/469 [00:08<00:00, 52.76it/s]"
     ]
    },
    {
     "name": "stdout",
     "output_type": "stream",
     "text": [
      "epoch: 3, loss: 0.023747339844703674\n"
     ]
    },
    {
     "name": "stderr",
     "output_type": "stream",
     "text": [
      "\n"
     ]
    }
   ],
   "source": [
    "for epoch in range(3):\n",
    "    for train_x, _ in tqdm.tqdm(train_data):\n",
    "        train_x = train_x.to(device)\n",
    "\n",
    "        x_hat = model(train_x)\n",
    "\n",
    "        loss = loss_function(train_x, x_hat)\n",
    "        opt.zero_grad()\n",
    "        loss.backward()\n",
    "        opt.step()\n",
    "    print(f'epoch: {epoch + 1}, loss: {loss.item()}')\n"
   ],
   "metadata": {
    "collapsed": false,
    "ExecuteTime": {
     "start_time": "2023-04-30T21:06:44.928636Z",
     "end_time": "2023-04-30T21:07:12.260141Z"
    }
   }
  },
  {
   "cell_type": "code",
   "execution_count": 10,
   "outputs": [],
   "source": [
    "import matplotlib.pyplot as plt\n",
    "import numpy as np"
   ],
   "metadata": {
    "collapsed": false,
    "ExecuteTime": {
     "start_time": "2023-04-30T21:07:12.260141Z",
     "end_time": "2023-04-30T21:07:13.689986Z"
    }
   }
  },
  {
   "cell_type": "code",
   "execution_count": 11,
   "outputs": [
    {
     "data": {
      "text/plain": "AE(\n  (encoder): Sequential(\n    (0): Linear(in_features=784, out_features=256, bias=True)\n    (1): ReLU()\n    (2): Linear(in_features=256, out_features=128, bias=True)\n    (3): ReLU()\n    (4): Linear(in_features=128, out_features=20, bias=True)\n    (5): ReLU()\n  )\n  (decoder): Sequential(\n    (0): Linear(in_features=20, out_features=128, bias=True)\n    (1): ReLU()\n    (2): Linear(in_features=128, out_features=256, bias=True)\n    (3): ReLU()\n    (4): Linear(in_features=256, out_features=784, bias=True)\n    (5): Sigmoid()\n  )\n)"
     },
     "execution_count": 11,
     "metadata": {},
     "output_type": "execute_result"
    }
   ],
   "source": [
    "device_cpu = torch.device('cpu')\n",
    "model.to(device_cpu)"
   ],
   "metadata": {
    "collapsed": false,
    "ExecuteTime": {
     "start_time": "2023-04-30T21:07:13.692909Z",
     "end_time": "2023-04-30T21:07:13.729039Z"
    }
   }
  },
  {
   "cell_type": "code",
   "execution_count": 13,
   "outputs": [
    {
     "data": {
      "text/plain": "(-0.5, 27.5, 27.5, -0.5)"
     },
     "execution_count": 13,
     "metadata": {},
     "output_type": "execute_result"
    },
    {
     "data": {
      "text/plain": "<Figure size 640x480 with 2 Axes>",
      "image/png": "[encoded data removed]"
     },
     "metadata": {},
     "output_type": "display_data"
    }
   ],
   "source": [
    "x_eval, _ = iter(test_data).__next__()\n",
    "x_hat = model(x_eval)\n",
    "x_eval1 = x_eval[0].detach().numpy()\n",
    "x_hat1 = x_hat[0].detach().numpy()\n",
    "\n",
    "plt.subplot(1, 2, 1)\n",
    "plt.title(\"org\", color='blue')\n",
    "plt.imshow(np.squeeze(x_eval1))\n",
    "plt.axis(\"off\")\n",
    "\n",
    "plt.subplot(1, 2, 2)\n",
    "plt.title(\"ae\", color='blue')\n",
    "plt.imshow(np.squeeze(x_hat1))\n",
    "plt.axis(\"off\")"
   ],
   "metadata": {
    "collapsed": false,
    "ExecuteTime": {
     "start_time": "2023-04-30T21:10:35.960446Z",
     "end_time": "2023-04-30T21:10:36.131247Z"
    }
   }
  },
  {
   "cell_type": "code",
   "execution_count": 12,
   "outputs": [],
   "source": [],
   "metadata": {
    "collapsed": false,
    "ExecuteTime": {
     "start_time": "2023-04-30T21:07:13.955455Z",
     "end_time": "2023-04-30T21:07:13.960332Z"
    }
   }
  }
 ],
 "metadata": {
  "kernelspec": {
   "display_name": "Python 3",
   "language": "python",
   "name": "python3"
  },
  "language_info": {
   "codemirror_mode": {
    "name": "ipython",
    "version": 2
   },
   "file_extension": ".py",
   "mimetype": "text/x-python",
   "name": "python",
   "nbconvert_exporter": "python",
   "pygments_lexer": "ipython2",
   "version": "2.7.6"
  }
 },
 "nbformat": 4,
 "nbformat_minor": 0
}
