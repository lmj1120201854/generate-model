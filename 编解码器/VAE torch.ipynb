{
 "cells": [
  {
   "cell_type": "code",
   "execution_count": 1,
   "metadata": {
    "collapsed": true,
    "ExecuteTime": {
     "start_time": "2023-04-30T21:10:50.145001Z",
     "end_time": "2023-04-30T21:10:51.688034Z"
    }
   },
   "outputs": [],
   "source": [
    "import torch\n",
    "from torchvision import datasets, transforms\n",
    "from torch.utils.data import DataLoader"
   ]
  },
  {
   "cell_type": "code",
   "execution_count": 2,
   "outputs": [],
   "source": [
    "path = 'data'\n",
    "train_data = datasets.MNIST(root=path, train=True, transform=transforms.Compose([\n",
    "    transforms.ToTensor()\n",
    "]), download=False)\n",
    "train_data = DataLoader(dataset=train_data, batch_size=128, shuffle=True)\n",
    "\n",
    "test_data = datasets.MNIST(root=path, train=False, transform=transforms.Compose([\n",
    "    transforms.ToTensor()\n",
    "]), download=False)\n",
    "test_data = DataLoader(dataset=test_data, batch_size=128, shuffle=True)\n",
    "\n",
    "x, _ = iter(train_data).next()"
   ],
   "metadata": {
    "collapsed": false,
    "ExecuteTime": {
     "start_time": "2023-04-30T21:10:51.695844Z",
     "end_time": "2023-04-30T21:10:51.784660Z"
    }
   }
  },
  {
   "cell_type": "code",
   "execution_count": 3,
   "outputs": [
    {
     "data": {
      "text/plain": "torch.Size([128, 1, 28, 28])"
     },
     "execution_count": 3,
     "metadata": {},
     "output_type": "execute_result"
    }
   ],
   "source": [
    "x.shape"
   ],
   "metadata": {
    "collapsed": false,
    "ExecuteTime": {
     "start_time": "2023-04-30T21:10:51.788560Z",
     "end_time": "2023-04-30T21:10:51.838336Z"
    }
   }
  },
  {
   "cell_type": "code",
   "execution_count": 4,
   "outputs": [],
   "source": [
    "from torch import nn\n",
    "import numpy as np"
   ],
   "metadata": {
    "collapsed": false,
    "ExecuteTime": {
     "start_time": "2023-04-30T21:10:51.811986Z",
     "end_time": "2023-04-30T21:10:51.861765Z"
    }
   }
  },
  {
   "cell_type": "code",
   "execution_count": 5,
   "outputs": [],
   "source": [
    "class AE(nn.Module):\n",
    "    def __init__(self):\n",
    "        super(AE, self).__init__()\n",
    "        self.encoder = nn.Sequential(\n",
    "            nn.Linear(28*28, 256),\n",
    "            nn.ReLU(),\n",
    "            nn.Linear(256, 128),\n",
    "            nn.ReLU(),\n",
    "            nn.Linear(128, 20),\n",
    "            nn.ReLU()\n",
    "        )\n",
    "        self.decoder = nn.Sequential(\n",
    "            nn.Linear(10, 128),\n",
    "            nn.ReLU(),\n",
    "            nn.Linear(128, 256),\n",
    "            nn.ReLU(),\n",
    "            nn.Linear(256, 28*28),\n",
    "            nn.Sigmoid()\n",
    "        )\n",
    "\n",
    "    def forward(self, x):\n",
    "        \"\"\"\n",
    "        :param x: 输入\n",
    "        :return: x_hat和kl散度\n",
    "        \"\"\"\n",
    "        batch_size = x.size(0)\n",
    "        x = x.view(batch_size, 28*28)\n",
    "        h_ = self.encoder(x)\n",
    "        mu, sigma = h_.chunk(2, dim=1)\n",
    "        h = mu + sigma * torch.randn_like(sigma)\n",
    "        x = self.decoder(h)\n",
    "        x = x.view(batch_size, 1, 28, 28)\n",
    "\n",
    "        kld = 0.5 * torch.sum(\n",
    "            torch.pow(mu, 2) +\n",
    "            torch.pow(sigma, 2) -\n",
    "            torch.log(1e-8 + torch.pow(sigma, 2)) - 1\n",
    "        ) / (batch_size * 28 * 28)  # np.prod(x.shape) = batch_size * channel * h * w\n",
    "\n",
    "        return x, kld\n"
   ],
   "metadata": {
    "collapsed": false,
    "ExecuteTime": {
     "start_time": "2023-04-30T21:10:51.822725Z",
     "end_time": "2023-04-30T21:10:51.862738Z"
    }
   }
  },
  {
   "cell_type": "code",
   "execution_count": 6,
   "outputs": [],
   "source": [
    "device = torch.device('cuda')"
   ],
   "metadata": {
    "collapsed": false,
    "ExecuteTime": {
     "start_time": "2023-04-30T21:10:51.851026Z",
     "end_time": "2023-04-30T21:10:51.863719Z"
    }
   }
  },
  {
   "cell_type": "code",
   "execution_count": 7,
   "outputs": [],
   "source": [
    "model = AE().to(device)\n",
    "loss_function = nn.MSELoss()\n",
    "opt = torch.optim.Adam(model.parameters(), lr=0.01)"
   ],
   "metadata": {
    "collapsed": false,
    "ExecuteTime": {
     "start_time": "2023-04-30T21:10:51.860786Z",
     "end_time": "2023-04-30T21:10:54.438911Z"
    }
   }
  },
  {
   "cell_type": "code",
   "execution_count": 8,
   "outputs": [],
   "source": [
    "import tqdm"
   ],
   "metadata": {
    "collapsed": false,
    "ExecuteTime": {
     "start_time": "2023-04-30T21:10:54.438911Z",
     "end_time": "2023-04-30T21:10:54.447699Z"
    }
   }
  },
  {
   "cell_type": "code",
   "execution_count": 9,
   "outputs": [
    {
     "name": "stderr",
     "output_type": "stream",
     "text": [
      "100%|██████████| 469/469 [00:11<00:00, 39.65it/s]\n"
     ]
    },
    {
     "name": "stdout",
     "output_type": "stream",
     "text": [
      "epoch: 1, loss: 0.061559949070215225, kld: 0.0034757652319967747\n"
     ]
    },
    {
     "name": "stderr",
     "output_type": "stream",
     "text": [
      "100%|██████████| 469/469 [00:11<00:00, 39.60it/s]\n"
     ]
    },
    {
     "name": "stdout",
     "output_type": "stream",
     "text": [
      "epoch: 2, loss: 0.05652080103754997, kld: 0.004484245087951422\n"
     ]
    },
    {
     "name": "stderr",
     "output_type": "stream",
     "text": [
      "100%|██████████| 469/469 [00:11<00:00, 41.44it/s]\n"
     ]
    },
    {
     "name": "stdout",
     "output_type": "stream",
     "text": [
      "epoch: 3, loss: 0.05860079452395439, kld: 0.0054840222001075745\n"
     ]
    },
    {
     "name": "stderr",
     "output_type": "stream",
     "text": [
      "100%|██████████| 469/469 [00:11<00:00, 41.39it/s]\n"
     ]
    },
    {
     "name": "stdout",
     "output_type": "stream",
     "text": [
      "epoch: 4, loss: 0.05375172197818756, kld: 0.005136073566973209\n"
     ]
    },
    {
     "name": "stderr",
     "output_type": "stream",
     "text": [
      "100%|██████████| 469/469 [00:11<00:00, 40.27it/s]"
     ]
    },
    {
     "name": "stdout",
     "output_type": "stream",
     "text": [
      "epoch: 5, loss: 0.05786272883415222, kld: 0.005433603655546904\n"
     ]
    },
    {
     "name": "stderr",
     "output_type": "stream",
     "text": [
      "\n"
     ]
    }
   ],
   "source": [
    "for epoch in range(1):\n",
    "    for train_x, _ in tqdm.tqdm(train_data):\n",
    "        train_x = train_x.to(device)\n",
    "\n",
    "        x_hat, kld = model(train_x)\n",
    "\n",
    "        loss = loss_function(x_hat, train_x)\n",
    "\n",
    "        if kld is not None:\n",
    "            e = - loss - kld\n",
    "            loss = - e\n",
    "\n",
    "        opt.zero_grad()\n",
    "        loss.backward()\n",
    "        opt.step()\n",
    "    print(f'epoch: {epoch + 1}, loss: {loss.item()}, kld: {kld.item()}')\n"
   ],
   "metadata": {
    "collapsed": false,
    "ExecuteTime": {
     "start_time": "2023-04-30T21:10:54.448674Z",
     "end_time": "2023-04-30T21:11:27.258395Z"
    }
   }
  },
  {
   "cell_type": "code",
   "execution_count": 10,
   "outputs": [],
   "source": [
    "import matplotlib.pyplot as plt"
   ],
   "metadata": {
    "collapsed": false,
    "ExecuteTime": {
     "start_time": "2023-04-30T21:11:27.259372Z",
     "end_time": "2023-04-30T21:11:28.480963Z"
    }
   }
  },
  {
   "cell_type": "code",
   "execution_count": 11,
   "outputs": [],
   "source": [
    "device_cpu = torch.device('cpu')\n",
    "model = model.to(device_cpu)"
   ],
   "metadata": {
    "collapsed": false,
    "ExecuteTime": {
     "start_time": "2023-04-30T21:11:28.480963Z",
     "end_time": "2023-04-30T21:11:28.493651Z"
    }
   }
  },
  {
   "cell_type": "code",
   "execution_count": 15,
   "outputs": [
    {
     "data": {
      "text/plain": "(-0.5, 27.5, 27.5, -0.5)"
     },
     "execution_count": 15,
     "metadata": {},
     "output_type": "execute_result"
    },
    {
     "data": {
      "text/plain": "<Figure size 640x480 with 2 Axes>",
      "image/png": "[encoded data removed]"
     },
     "metadata": {},
     "output_type": "display_data"
    }
   ],
   "source": [
    "x_eval, _ = iter(test_data).__next__()\n",
    "x_hat, kld_ = model(x_eval)\n",
    "x_eval1 = x_eval[0].detach().numpy()\n",
    "x_hat1 = x_hat[0].detach().numpy()\n",
    "\n",
    "plt.subplot(1, 2, 1)\n",
    "plt.title(\"org\", color='blue')\n",
    "plt.imshow(np.squeeze(x_eval1))\n",
    "plt.axis(\"off\")\n",
    "\n",
    "plt.subplot(1, 2, 2)\n",
    "plt.title(\"ae\", color='blue')\n",
    "plt.imshow(np.squeeze(x_hat1))\n",
    "plt.axis(\"off\")"
   ],
   "metadata": {
    "collapsed": false,
    "ExecuteTime": {
     "start_time": "2023-04-30T21:18:21.906086Z",
     "end_time": "2023-04-30T21:18:22.100309Z"
    }
   }
  },
  {
   "cell_type": "code",
   "execution_count": 12,
   "outputs": [],
   "source": [],
   "metadata": {
    "collapsed": false,
    "ExecuteTime": {
     "start_time": "2023-04-30T21:00:56.837408Z",
     "end_time": "2023-04-30T21:00:56.866719Z"
    }
   }
  },
  {
   "cell_type": "code",
   "execution_count": 12,
   "outputs": [],
   "source": [],
   "metadata": {
    "collapsed": false
   }
  }
 ],
 "metadata": {
  "kernelspec": {
   "display_name": "Python 3",
   "language": "python",
   "name": "python3"
  },
  "language_info": {
   "codemirror_mode": {
    "name": "ipython",
    "version": 2
   },
   "file_extension": ".py",
   "mimetype": "text/x-python",
   "name": "python",
   "nbconvert_exporter": "python",
   "pygments_lexer": "ipython2",
   "version": "2.7.6"
  }
 },
 "nbformat": 4,
 "nbformat_minor": 0
}
